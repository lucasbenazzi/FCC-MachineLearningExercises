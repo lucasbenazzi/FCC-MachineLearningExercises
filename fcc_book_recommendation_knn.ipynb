{
  "cells": [
    {
      "cell_type": "markdown",
      "metadata": {
        "id": "view-in-github",
        "colab_type": "text"
      },
      "source": [
        "<a href=\"https://colab.research.google.com/github/lucasbenazzi/FCC-MachineLearningExercises/blob/main/fcc_book_recommendation_knn.ipynb\" target=\"_parent\"><img src=\"https://colab.research.google.com/assets/colab-badge.svg\" alt=\"Open In Colab\"/></a>"
      ]
    },
    {
      "cell_type": "markdown",
      "metadata": {
        "id": "uGd4NYQX1Rf_"
      },
      "source": [
        "*Note: You are currently reading this using Google Colaboratory which is a cloud-hosted version of Jupyter Notebook. This is a document containing both text cells for documentation and runnable code cells. If you are unfamiliar with Jupyter Notebook, watch this 3-minute introduction before starting this challenge: https://www.youtube.com/watch?v=inN8seMm7UI*\n",
        "\n",
        "---\n",
        "\n",
        "In this challenge, you will create a book recommendation algorithm using **K-Nearest Neighbors**.\n",
        "\n",
        "You will use the [Book-Crossings dataset](http://www2.informatik.uni-freiburg.de/~cziegler/BX/). This dataset contains 1.1 million ratings (scale of 1-10) of 270,000 books by 90,000 users. \n",
        "\n",
        "After importing and cleaning the data, use `NearestNeighbors` from `sklearn.neighbors` to develop a model that shows books that are similar to a given book. The Nearest Neighbors algorithm measures distance to determine the “closeness” of instances.\n",
        "\n",
        "Create a function named `get_recommends` that takes a book title (from the dataset) as an argument and returns a list of 5 similar books with their distances from the book argument.\n",
        "\n",
        "This code:\n",
        "\n",
        "`get_recommends(\"The Queen of the Damned (Vampire Chronicles (Paperback))\")`\n",
        "\n",
        "should return:\n",
        "\n",
        "```\n",
        "[\n",
        "  'The Queen of the Damned (Vampire Chronicles (Paperback))',\n",
        "  [\n",
        "    ['Catch 22', 0.793983519077301], \n",
        "    ['The Witching Hour (Lives of the Mayfair Witches)', 0.7448656558990479], \n",
        "    ['Interview with the Vampire', 0.7345068454742432],\n",
        "    ['The Tale of the Body Thief (Vampire Chronicles (Paperback))', 0.5376338362693787],\n",
        "    ['The Vampire Lestat (Vampire Chronicles, Book II)', 0.5178412199020386]\n",
        "  ]\n",
        "]\n",
        "```\n",
        "\n",
        "Notice that the data returned from `get_recommends()` is a list. The first element in the list is the book title passed in to the function. The second element in the list is a list of five more lists. Each of the five lists contains a recommended book and the distance from the recommended book to the book passed in to the function.\n",
        "\n",
        "If you graph the dataset (optional), you will notice that most books are not rated frequently. To ensure statistical significance, remove from the dataset users with less than 200 ratings and books with less than 100 ratings.\n",
        "\n",
        "The first three cells import libraries you may need and the data to use. The final cell is for testing. Write all your code in between those cells."
      ]
    },
    {
      "cell_type": "code",
      "execution_count": null,
      "metadata": {
        "id": "Y1onB6kUvo4Z"
      },
      "outputs": [],
      "source": [
        "# import libraries (you may add additional imports but you may not have to)\n",
        "import numpy as np\n",
        "import pandas as pd\n",
        "from scipy.sparse import csr_matrix\n",
        "from sklearn.neighbors import NearestNeighbors\n",
        "import matplotlib.pyplot as plt"
      ]
    },
    {
      "cell_type": "code",
      "execution_count": null,
      "metadata": {
        "id": "iAQGqqO_vo4d",
        "colab": {
          "base_uri": "https://localhost:8080/"
        },
        "outputId": "098401bd-a955-492a-8e41-4bc6ac43ce79"
      },
      "outputs": [
        {
          "output_type": "stream",
          "name": "stdout",
          "text": [
            "--2022-01-18 21:37:02--  https://cdn.freecodecamp.org/project-data/books/book-crossings.zip\n",
            "Resolving cdn.freecodecamp.org (cdn.freecodecamp.org)... 104.26.3.33, 172.67.70.149, 104.26.2.33, ...\n",
            "Connecting to cdn.freecodecamp.org (cdn.freecodecamp.org)|104.26.3.33|:443... connected.\n",
            "HTTP request sent, awaiting response... 200 OK\n",
            "Length: 26085508 (25M) [application/zip]\n",
            "Saving to: ‘book-crossings.zip.2’\n",
            "\n",
            "book-crossings.zip. 100%[===================>]  24.88M  45.7MB/s    in 0.5s    \n",
            "\n",
            "2022-01-18 21:37:03 (45.7 MB/s) - ‘book-crossings.zip.2’ saved [26085508/26085508]\n",
            "\n",
            "Archive:  book-crossings.zip\n",
            "replace BX-Book-Ratings.csv? [y]es, [n]o, [A]ll, [N]one, [r]ename: A\n",
            "  inflating: BX-Book-Ratings.csv     \n",
            "  inflating: BX-Books.csv            \n",
            "  inflating: BX-Users.csv            \n"
          ]
        }
      ],
      "source": [
        "# get data files\n",
        "!wget https://cdn.freecodecamp.org/project-data/books/book-crossings.zip\n",
        "\n",
        "!unzip book-crossings.zip\n",
        "\n",
        "books_filename = 'BX-Books.csv'\n",
        "ratings_filename = 'BX-Book-Ratings.csv'"
      ]
    },
    {
      "cell_type": "code",
      "execution_count": null,
      "metadata": {
        "id": "NClILWOiEd6Q"
      },
      "outputs": [],
      "source": [
        "# import csv data into dataframes\n",
        "df_books = pd.read_csv(\n",
        "    books_filename,\n",
        "    encoding = \"ISO-8859-1\",\n",
        "    sep=\";\",\n",
        "    header=0,\n",
        "    names=['isbn', 'title', 'author'],\n",
        "    usecols=['isbn', 'title', 'author'],\n",
        "    dtype={'isbn': 'str', 'title': 'str', 'author': 'str'})\n",
        "\n",
        "df_ratings = pd.read_csv(\n",
        "    ratings_filename,\n",
        "    encoding = \"ISO-8859-1\",\n",
        "    sep=\";\",\n",
        "    header=0,\n",
        "    names=['user', 'isbn', 'rating'],\n",
        "    usecols=['user', 'isbn', 'rating'],\n",
        "    dtype={'user': 'int32', 'isbn': 'str', 'rating': 'float32'})"
      ]
    },
    {
      "cell_type": "code",
      "execution_count": null,
      "metadata": {
        "id": "xAcXjkCFCh0A"
      },
      "outputs": [],
      "source": [
        "# add your code here - consider creating a new cell for each section of code"
      ]
    },
    {
      "cell_type": "code",
      "source": [
        "#removing users with less than 200 ratings\n",
        "#for a user to have less than 200 ratings, it has to appear less then 200 times on df_ratings\n",
        "user_rating_count = (df_ratings['user'].value_counts() >= 200)\n",
        "user_rating_list = user_rating_count[user_rating_count==True].index\n",
        "\n",
        "user_rating_filter = df_ratings['user'].isin(user_rating_list)\n",
        "\n",
        "#remove books with less than 100 ratings\n",
        "#for a book to have less then 100 ratings, it has to appear less then 100 times on df_ratings\n",
        "book_rating_count = (df_ratings['isbn'].value_counts() >= 100)\n",
        "book_rating_list = book_rating_count[book_rating_count==True].index\n",
        "\n",
        "book_rating_filter = df_ratings['isbn'].isin(book_rating_list)"
      ],
      "metadata": {
        "id": "c59WKIj-SXcn"
      },
      "execution_count": null,
      "outputs": []
    },
    {
      "cell_type": "code",
      "source": [
        "#create \"new_df_ratings\" with both filters\n",
        "new_df_ratings = df_ratings[user_rating_filter & book_rating_filter]\n",
        "\n",
        "\n",
        "#create \"new_df_books\" based on the books of the \"new_df_ratings\" variable\n",
        "#this step is not necessary, is just there so there is a \"new_df_book\" variable only with the isbn values on the \"new_df_ratings\" variable\n",
        "new_isbn_list = new_df_ratings['isbn'].values\n",
        "new_df_books_filter = df_books['isbn'].isin(new_isbn_list)\n",
        "\n",
        "new_df_books = df_books[new_df_books_filter]"
      ],
      "metadata": {
        "id": "AFuvC-7Qqswq"
      },
      "execution_count": null,
      "outputs": []
    },
    {
      "cell_type": "code",
      "source": [
        "#prepare data to train by pivoting the data\n",
        "df_ratings_pivot = new_df_ratings.pivot(\n",
        "    index='isbn', columns='user', values='rating').fillna(0)"
      ],
      "metadata": {
        "id": "mWtn5mjRwOMi"
      },
      "execution_count": null,
      "outputs": []
    },
    {
      "cell_type": "code",
      "source": [
        "#training the model\n",
        "#since there are many dimentions, using euclidean distance wouldn't be accurate.\n",
        "#to resolve this issue, it's used \"cosine\" metric\n",
        "nbrs = NearestNeighbors(algorithm='auto', metric = 'cosine').fit(df_ratings_pivot)"
      ],
      "metadata": {
        "id": "DXKHeUXloPKV"
      },
      "execution_count": null,
      "outputs": []
    },
    {
      "cell_type": "code",
      "source": [
        "# creating function to get the title of a book based on the id of the \"df_ratings_pivot\" variable\n",
        "def get_name_from_id(id):\n",
        "  try:\n",
        "    isbn = df_ratings_pivot.iloc[id].name\n",
        "    return df_books.loc[df_books['isbn'] == isbn, 'title'].values[0]\n",
        "  # some books are on df_rating variable, but not on df_books, on those cases, there is no title match for the isbn\n",
        "  # since dealing with this issue is not a part of this exercise, leave the titles as blank\n",
        "  except:\n",
        "    return ''"
      ],
      "metadata": {
        "id": "JvuO3IaAwrvA"
      },
      "execution_count": null,
      "outputs": []
    },
    {
      "cell_type": "code",
      "execution_count": null,
      "metadata": {
        "id": "f5ZUd-L1SQz7"
      },
      "outputs": [],
      "source": [
        "# function to return recommended books - this will be tested\n",
        "def get_recommends(book = \"\"):\n",
        "  # get list of isbn codes based on the name, as some names have multiple isbn codes\n",
        "  try:\n",
        "    isbn_list = df_books.loc[df_books['title'] == book, 'isbn'].values\n",
        "  \n",
        "  # since it's not the focus of this project, this script doesn't work if the given string isn't a perfect match with a book title\n",
        "  # for a future project, develop a system to search for similar titles\n",
        "  except:\n",
        "    print(\"No title with given name\")\n",
        "    return False\n",
        "\n",
        "  # create a list for the cases where a given title has multiple isbn\n",
        "  final_results = []\n",
        "  for isbn in isbn_list:\n",
        "    #n_neighbors is set to 6, since the \"kneighbors\" function returns the search variable itself\n",
        "    distances, indices = nbrs.kneighbors([df_ratings_pivot.loc[isbn]],n_neighbors = 6)\n",
        "\n",
        "    #creating a pandas DataFrame as opposed to a list from the results, as a easy way to order the recommended books by distance\n",
        "    df_recommendations = pd.DataFrame(\n",
        "        list(zip(indices[0], distances[0])),\n",
        "        columns = ['id','distance']\n",
        "        ).set_index('id').sort_values('distance',ascending = False)\n",
        "    #drop value with distance == 0\n",
        "    df_recommendations = df_recommendations[df_recommendations.distance != 0]\n",
        "    \n",
        "    # create a list with the specified format for the exercise\n",
        "    recommendation_list = []\n",
        "    for id, distance in df_recommendations.iterrows():\n",
        "      result = [get_name_from_id(id), distance[0]]\n",
        "      recommendation_list.append(result)\n",
        "    final_results.append([book, recommendation_list])\n",
        "\n",
        "  # if there are multiple isbn for a given title, return all results\n",
        "  if len(final_results) > 1:\n",
        "    return final_results\n",
        "  # if there is only one isbn, return the first index of the \"final_results\" to match the exercise desired output\n",
        "  else:\n",
        "    return final_results[0]"
      ]
    },
    {
      "cell_type": "markdown",
      "metadata": {
        "id": "eat9A2TKawHU"
      },
      "source": [
        "Use the cell below to test your function. The `test_book_recommendation()` function will inform you if you passed the challenge or need to keep trying."
      ]
    },
    {
      "cell_type": "code",
      "execution_count": null,
      "metadata": {
        "id": "jd2SLCh8oxMh",
        "colab": {
          "base_uri": "https://localhost:8080/"
        },
        "outputId": "7d2d8ed6-1320-48c8-8631-0bf57f682bd2"
      },
      "outputs": [
        {
          "output_type": "stream",
          "name": "stdout",
          "text": [
            "[\"Where the Heart Is (Oprah's Book Club (Paperback))\", [[\"I'll Be Seeing You\", 0.8016210794448853], ['The Weight of Water', 0.7708583474159241], ['The Surgeon', 0.7699410915374756], ['I Know This Much Is True', 0.7677075266838074], ['The Lovely Bones: A Novel', 0.7234864234924316]]]\n",
            "You passed the challenge! 🎉🎉🎉🎉🎉\n"
          ]
        }
      ],
      "source": [
        "books = get_recommends(\"Where the Heart Is (Oprah's Book Club (Paperback))\")\n",
        "print(books)\n",
        "\n",
        "def test_book_recommendation():\n",
        "  test_pass = True\n",
        "  recommends = get_recommends(\"Where the Heart Is (Oprah's Book Club (Paperback))\")\n",
        "  if recommends[0] != \"Where the Heart Is (Oprah's Book Club (Paperback))\":\n",
        "    test_pass = False\n",
        "  recommended_books = [\"I'll Be Seeing You\", 'The Weight of Water', 'The Surgeon', 'I Know This Much Is True']\n",
        "  recommended_books_dist = [0.8, 0.77, 0.77, 0.77]\n",
        "  for i in range(2): \n",
        "    if recommends[1][i][0] not in recommended_books:\n",
        "      test_pass = False\n",
        "    if abs(recommends[1][i][1] - recommended_books_dist[i]) >= 0.05:\n",
        "      test_pass = False\n",
        "  if test_pass:\n",
        "    print(\"You passed the challenge! 🎉🎉🎉🎉🎉\")\n",
        "  else:\n",
        "    print(\"You haven't passed yet. Keep trying!\")\n",
        "\n",
        "test_book_recommendation()"
      ]
    },
    {
      "cell_type": "markdown",
      "source": [
        "##Sources\n",
        "\n",
        "1. \"Prototyping a Recommender System Step by Step Part 1: KNN Item-Based Collaborative Filtering\" towardsdatascience, https://towardsdatascience.com/prototyping-a-recommender-system-step-by-step-part-1-knn-item-based-collaborative-filtering-637969614ea\n",
        "2. \"1.6. Nearest Neighbors\" scikit-learn, https://scikit-learn.org/stable/modules/neighbors.html\n",
        "3. \"sklearn.neighbors.NearestNeighbors\" scikit-learn, https://scikit-learn.org/stable/modules/generated/sklearn.neighbors.NearestNeighbors.html\n",
        "4. \"pandas.DataFrame.pivot\" pandas, https://pandas.pydata.org/docs/reference/api/pandas.DataFrame.pivot.html\n",
        "5. \"pandas.DataFrame.sort_values\" pandas, https://pandas.pydata.org/docs/reference/api/pandas.DataFrame.sort_values.html\n",
        "\n",
        "### Extra links\n",
        "  The answer on the stackoverflow post from \"Abhinav Gupta\" and \"legoscia\" helped with a shorter sintaxe: https://stackoverflow.com/questions/30522724/take-multiple-lists-into-dataframe\n",
        "\n"
      ],
      "metadata": {
        "id": "_vbxuwivH9PV"
      }
    }
  ],
  "metadata": {
    "colab": {
      "collapsed_sections": [],
      "name": "fcc_book_recommendation_knn.ipynb",
      "provenance": [],
      "include_colab_link": true
    },
    "kernelspec": {
      "display_name": "Python 3",
      "language": "python",
      "name": "python3"
    },
    "language_info": {
      "codemirror_mode": {
        "name": "ipython",
        "version": 3
      },
      "file_extension": ".py",
      "mimetype": "text/x-python",
      "name": "python",
      "nbconvert_exporter": "python",
      "pygments_lexer": "ipython3",
      "version": "3.6.5"
    }
  },
  "nbformat": 4,
  "nbformat_minor": 0
}